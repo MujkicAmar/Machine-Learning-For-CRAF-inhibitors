{
  "cells": [
    {
      "cell_type": "markdown",
      "metadata": {
        "id": "view-in-github",
        "colab_type": "text"
      },
      "source": [
        "<a href=\"https://colab.research.google.com/github/MujkicAmar/Machine-Learning-For-CRAF-inhibitors/blob/main/CRAF_data_preprocessing_and_EDA(_ipynb.ipynb\" target=\"_parent\"><img src=\"https://colab.research.google.com/assets/colab-badge.svg\" alt=\"Open In Colab\"/></a>"
      ]
    },
    {
      "cell_type": "markdown",
      "metadata": {
        "id": "AZKMyRGfC4hP"
      },
      "source": [
        "# Installing and importing necessary libraries"
      ]
    },
    {
      "cell_type": "code",
      "execution_count": null,
      "metadata": {
        "id": "vkQ5CmtFUsyD"
      },
      "outputs": [],
      "source": [
        "! pip install rdkit"
      ]
    },
    {
      "cell_type": "code",
      "execution_count": null,
      "metadata": {
        "id": "4UBQR8uZZuG5"
      },
      "outputs": [],
      "source": [
        "import pandas as pd\n",
        "from rdkit import Chem\n",
        "from rdkit.Chem.MolStandardize import rdMolStandardize\n",
        "from rdkit.Chem.SaltRemover import SaltRemover\n",
        "import numpy as np\n",
        "from rdkit.Chem import Descriptors, Lipinski\n",
        "from rdkit.Chem.FilterCatalog import *\n",
        "import seaborn as sns\n",
        "import matplotlib.pyplot as plt\n",
        "from tqdm.auto import tqdm\n",
        "import numpy\n",
        "import math"
      ]
    },
    {
      "cell_type": "markdown",
      "metadata": {
        "id": "o_lzv0KxDPNq"
      },
      "source": [
        "# Searh for target CRAf protein in the CHEMBL database"
      ]
    },
    {
      "cell_type": "code",
      "execution_count": null,
      "metadata": {
        "id": "tjzdaKhWTKTq"
      },
      "outputs": [],
      "source": [
        "df = pd.read_csv(\"craf_doc.csv\", index_col=[0])\n",
        "df"
      ]
    },
    {
      "cell_type": "markdown",
      "metadata": {
        "id": "f6bCaRQsTaaK"
      },
      "source": [
        "# Handling missing data"
      ]
    },
    {
      "cell_type": "code",
      "execution_count": null,
      "metadata": {
        "id": "hzyPW3dGv2w3"
      },
      "outputs": [],
      "source": [
        "df2 = df[df.standard_value.notna()]\n",
        "df2 = df[df.molecule_chembl_id.notna()]\n",
        "df2 = df[df.canonical_smiles.notna()]\n",
        "df2"
      ]
    },
    {
      "cell_type": "markdown",
      "metadata": {
        "id": "CuQ27G2yTm2c"
      },
      "source": [
        "#  Data pre-processing of the bioactivity data\n"
      ]
    },
    {
      "cell_type": "code",
      "source": [
        "hand_selection_df = pd.read_csv(\"craf_no_db.csv\")"
      ],
      "metadata": {
        "id": "6B3EXW0RPQEY"
      },
      "execution_count": null,
      "outputs": []
    },
    {
      "cell_type": "code",
      "execution_count": null,
      "metadata": {
        "id": "thXxU4T7V3KN"
      },
      "outputs": [],
      "source": [
        "selection = [\"molecule_chembl_id\", \"canonical_smiles\", \"standard_value\"]\n",
        "conc_data = df2[selection]\n",
        "conc_data"
      ]
    },
    {
      "cell_type": "code",
      "source": [
        "conc_data = conc_data.dropna()\n",
        "conc_data"
      ],
      "metadata": {
        "id": "kCRPga8SRTLW"
      },
      "execution_count": null,
      "outputs": []
    },
    {
      "cell_type": "markdown",
      "metadata": {
        "id": "fHmANGtjO1Fc"
      },
      "source": [
        "#Standardize\n",
        "\n",
        "Adapted from: https://github.com/greglandrum/RSC_OpenScience_Standardization_202104/blob/main/Standardization%20and%20Validation%20with%20the%20RDKit.ipynb"
      ]
    },
    {
      "cell_type": "code",
      "execution_count": null,
      "metadata": {
        "id": "DyT1PN9mO0XZ"
      },
      "outputs": [],
      "source": [
        "# Borrowed from https://bitsilla.com/blog/2021/06/standardizing-a-molecule-using-rdkit/\n",
        "def standardize(smiles):\n",
        "    # follows the steps in\n",
        "    # https://github.com/greglandrum/RSC_OpenScience_Standardization_202104/blob/main/MolStandardize%20pieces.ipynb\n",
        "    # as described **excellently** (by Greg) in\n",
        "    # https://www.youtube.com/watch?v=eWTApNX8dJQ\n",
        "    mol = Chem.MolFromSmiles(smiles)\n",
        "\n",
        "    # removeHs, disconnect metal atoms, normalize the molecule, reionize the molecule\n",
        "    clean_mol = rdMolStandardize.Cleanup(mol)\n",
        "\n",
        "    # if many fragments, get the \"parent\" (the actual mol we are interested in)\n",
        "    parent_clean_mol = rdMolStandardize.FragmentParent(clean_mol)\n",
        "\n",
        "    # try to neutralize molecule\n",
        "    uncharger = rdMolStandardize.Uncharger()  # annoying, but necessary as no convenience method exists\n",
        "    uncharged_parent_clean_mol = uncharger.uncharge(parent_clean_mol)\n",
        "\n",
        "    # note that no attempt is made at reionization at this step\n",
        "    # nor at ionization at some pH (rdkit has no pKa caculator)\n",
        "    # the main aim to represent all molecules from different sources\n",
        "    # in a (single) standard way, for use in ML, catalogue, etc.\n",
        "\n",
        "    te = rdMolStandardize.TautomerEnumerator()  # idem\n",
        "    taut_uncharged_parent_clean_mol = te.Canonicalize(uncharged_parent_clean_mol)\n",
        "\n",
        "    return Chem.MolToSmiles(taut_uncharged_parent_clean_mol)\n"
      ]
    },
    {
      "cell_type": "code",
      "execution_count": null,
      "metadata": {
        "id": "T3fA_DBxO9_P"
      },
      "outputs": [],
      "source": [
        "smiles_df = conc_data.canonical_smiles.apply(standardize)\n",
        "smiles_df"
      ]
    },
    {
      "cell_type": "markdown",
      "metadata": {
        "id": "OCbhf23TRw2h"
      },
      "source": [
        "# Removing duplicates\n",
        "\n",
        "Because data was taken from multiple scientific papers, it is possible that the different papers tested the same substance. We want to clean the data from any duplicates"
      ]
    },
    {
      "cell_type": "code",
      "execution_count": null,
      "metadata": {
        "id": "1Cr6l3MmRn2E"
      },
      "outputs": [],
      "source": [
        "smiles_df = pd.DataFrame(smiles_df).rename(columns={\"canonical_smiles\": \"std_smiles\"})\n",
        "conc_data2 = conc_data.drop(columns=\"canonical_smiles\", axis=1)\n",
        "final_data = pd.concat([conc_data2,smiles_df], axis=1)\n",
        "final_data"
      ]
    },
    {
      "cell_type": "code",
      "execution_count": null,
      "metadata": {
        "id": "VKaqSFg6RybZ"
      },
      "outputs": [],
      "source": [
        "duplicates_droped_smi = final_data.drop_duplicates(subset=\"std_smiles\", keep=\"first\").reset_index().drop(columns=\"index\", axis=1)\n",
        "duplicates_droped_smi"
      ]
    },
    {
      "cell_type": "markdown",
      "metadata": {
        "id": "z1Q44V4FOLeg"
      },
      "source": [
        "# PAINS removal"
      ]
    },
    {
      "cell_type": "code",
      "execution_count": null,
      "metadata": {
        "id": "xFOsEjkEZg9I"
      },
      "outputs": [],
      "source": [
        "# initialize filter\n",
        "params = FilterCatalogParams()\n",
        "params.AddCatalog(FilterCatalogParams.FilterCatalogs.PAINS)\n",
        "catalog = FilterCatalog(params)\n",
        "\n",
        "# search for PAINS\n",
        "matches = []\n",
        "clean = []\n",
        "for index, row in tqdm(duplicates_droped_smi.iterrows(), total=duplicates_droped_smi.shape[0]):\n",
        "    molecule = Chem.MolFromSmiles(row.std_smiles)\n",
        "    entry = catalog.GetFirstMatch(molecule)  # Get the first matching PAINS\n",
        "    if entry is not None:\n",
        "        # store PAINS information\n",
        "        matches.append(\n",
        "            {\n",
        "                \"chembl_id\": row.molecule_chembl_id,\n",
        "                \"rdkit_molecule\": molecule,\n",
        "                \"pains\": entry.GetDescription().capitalize(),\n",
        "            }\n",
        "        )\n",
        "    else:\n",
        "        # collect indices of molecules without PAINS\n",
        "        clean.append(index)\n",
        "\n",
        "matches = pd.DataFrame(matches)\n",
        "clean_data = duplicates_droped_smi.loc[clean]  # keep molecules without PAINS\n"
      ]
    },
    {
      "cell_type": "code",
      "execution_count": null,
      "metadata": {
        "id": "V-ZSI5BTZ5TO"
      },
      "outputs": [],
      "source": [
        "print(f\"Number of compounds with PAINS: {len(matches)}\")\n",
        "print(f\"Number of compounds without PAINS: {len(clean_data)}\")"
      ]
    },
    {
      "cell_type": "code",
      "execution_count": null,
      "metadata": {
        "id": "LHj5uaeVQW0p"
      },
      "outputs": [],
      "source": [
        "clean_data = clean_data.reset_index(drop=True)"
      ]
    },
    {
      "cell_type": "markdown",
      "metadata": {
        "id": "H0GR171QXP8j"
      },
      "source": [
        "# Lipinski descriptors\n",
        "Lipinski descriptors,  Lipinski's Rule-of-five, which proposes that molecules with poor permeation and oral absorption have molecular weight > 500, Clog P > 5, hydrogen-bond donor > 5 and hydrogen-bond acceptor > 10."
      ]
    },
    {
      "cell_type": "code",
      "execution_count": null,
      "metadata": {
        "id": "c4TpqnhZbzIU"
      },
      "outputs": [],
      "source": [
        "#Code  from https://codeocean.com/explore/capsules?query=tag:data-curation\n",
        "\n",
        "def generate(smiles, verbose=False):\n",
        "\n",
        "    moldata= []\n",
        "    for elem in smiles:\n",
        "        mol=Chem.MolFromSmiles(elem)\n",
        "        moldata.append(mol)\n",
        "\n",
        "    baseData= np.arange(1,1)\n",
        "    i=0\n",
        "    for mol in moldata:\n",
        "        desc_MolWt = Descriptors.MolWt(mol)\n",
        "        desc_MolLogP = Descriptors.MolLogP(mol)\n",
        "        desc_NumHDonors = Lipinski.NumHDonors(mol)\n",
        "        desc_NumHAcceptors = Lipinski.NumHAcceptors(mol)\n",
        "        desc_numRotatingBonds = Descriptors.NumRotatableBonds(mol)\n",
        "\n",
        "        row = np.array([desc_MolWt,\n",
        "                        desc_MolLogP,\n",
        "                        desc_NumHDonors,\n",
        "                        desc_NumHAcceptors,\n",
        "                        desc_numRotatingBonds])\n",
        "        if (i == 0):\n",
        "          baseData = row\n",
        "        else:\n",
        "          baseData = np.vstack([baseData, row])\n",
        "        i=i+1\n",
        "\n",
        "    columnNames=[\"MW\",\"LogP\",\"NumHDonors\",\"NumHAcceptors\", \"numRotatingBonds\"]\n",
        "    descriptors = pd.DataFrame(data=baseData,columns=columnNames)\n",
        "\n",
        "    return descriptors\n",
        "\n",
        "df_lipinski = generate(clean_data.std_smiles)\n",
        "df_lipinski"
      ]
    },
    {
      "cell_type": "code",
      "execution_count": null,
      "metadata": {
        "id": "4dwqLwzrgN8d"
      },
      "outputs": [],
      "source": [
        "df_combined = pd.concat([clean_data, df_lipinski], axis=1)\n",
        "df_combined"
      ]
    },
    {
      "cell_type": "markdown",
      "metadata": {
        "id": "_yav4-sIeRSk"
      },
      "source": [
        "# Convert IC50 to pIC50"
      ]
    },
    {
      "cell_type": "code",
      "execution_count": null,
      "metadata": {
        "id": "BkHE7tqWcd7z"
      },
      "outputs": [],
      "source": [
        "def pIC50(i):\n",
        "    molar = i*(10**-9)\n",
        "    pIC50 = -np.log10(molar)\n",
        "    return pIC50"
      ]
    },
    {
      "cell_type": "code",
      "execution_count": null,
      "metadata": {
        "id": "M8xUwH0dlQlj"
      },
      "outputs": [],
      "source": [
        "df_combined[\"norm_value\"] = df_combined[\"standard_value\"].astype(float).map(lambda x: 100000000.0  if x > 100000000.0 else x)\n",
        "df_combined['pIC50'] = df_combined['norm_value'].apply(pIC50)\n",
        "df_combined = df_combined.drop(columns=\"standard_value\", axis=1)\n",
        "df_combined\n"
      ]
    },
    {
      "cell_type": "code",
      "execution_count": null,
      "metadata": {
        "id": "zDG_godikBV-"
      },
      "outputs": [],
      "source": [
        "bioactivity = df_combined.pIC50.astype(float)\n",
        "bioactivity_class = bioactivity.map(lambda x: \"inactive\" if x <= 6 else \"active\")\n",
        "bioactivity_class = pd.Series(bioactivity_class, name=\"bioactivity\")\n",
        "bioactivity_class"
      ]
    },
    {
      "cell_type": "code",
      "execution_count": null,
      "metadata": {
        "id": "qulcl2lg1Myy"
      },
      "outputs": [],
      "source": [
        "exp_data = pd.concat([df_combined, bioactivity_class], axis=1)\n",
        "exp_data"
      ]
    },
    {
      "cell_type": "code",
      "execution_count": null,
      "metadata": {
        "id": "VG-NjTfI-nUL"
      },
      "outputs": [],
      "source": [
        "exp_data.shape"
      ]
    },
    {
      "cell_type": "code",
      "execution_count": null,
      "metadata": {
        "id": "GqoopLpf-5T8"
      },
      "outputs": [],
      "source": [
        "exp_data.dropna()"
      ]
    },
    {
      "cell_type": "code",
      "execution_count": null,
      "metadata": {
        "id": "pAlIoXZfRBgw"
      },
      "outputs": [],
      "source": [
        "exp_data.to_csv(\"CRAF_h.csv\")"
      ]
    },
    {
      "cell_type": "markdown",
      "metadata": {
        "id": "KlzyBDxhqLLt"
      },
      "source": [
        "# Exploratory data analysis"
      ]
    },
    {
      "cell_type": "code",
      "execution_count": null,
      "metadata": {
        "id": "R6v3mQirqNEp"
      },
      "outputs": [],
      "source": [
        "plt.figure(figsize=(8,8))\n",
        "\n",
        "\n",
        "sns.countplot(x='bioactivity', data=exp_data)\n",
        "plt.xlabel('bioactivity', size=20, fontweight='bold')\n",
        "plt.ylabel('Frequency', fontsize=20, fontweight='bold')\n",
        "plt.xticks(size=20)\n",
        "plt.yticks(size=20)\n",
        "sns.set(style='ticks')\n",
        "sns.despine(top=True)\n",
        "plt.tight_layout()\n",
        "plt.savefig('plot_bioactivity_class.png')"
      ]
    },
    {
      "cell_type": "code",
      "execution_count": null,
      "metadata": {
        "id": "MjPP0VPgulk5"
      },
      "outputs": [],
      "source": [
        "plt.figure(figsize=(8, 8))\n",
        "\n",
        "sns.scatterplot(x='MW', y='LogP', data=exp_data, hue='bioactivity', size='pIC50', edgecolor='black', alpha=0.7)\n",
        "\n",
        "plt.xlabel('MW', fontsize=14, fontweight='bold')\n",
        "plt.ylabel('LogP', fontsize=14, fontweight='bold')\n",
        "plt.legend(bbox_to_anchor=(1.05, 1), loc=2, borderaxespad=0)\n",
        "plt.savefig('plot_MW_vs_LogP.pdf')"
      ]
    },
    {
      "cell_type": "code",
      "execution_count": null,
      "metadata": {
        "id": "EKR5TTrlq-PH"
      },
      "outputs": [],
      "source": [
        "selection = ['bioactivity','MW','LogP','NumHDonors','NumHAcceptors','pIC50', \"numRotatingBonds\"]\n",
        "sns.pairplot(exp_data[selection], hue='bioactivity')\n",
        "plt.tight_layout()\n",
        "plt.savefig(\"Pairplot_of_selected data\")"
      ]
    },
    {
      "cell_type": "code",
      "execution_count": null,
      "metadata": {
        "id": "fqZAOgQuc30_"
      },
      "outputs": [],
      "source": [
        "exp_data"
      ]
    },
    {
      "cell_type": "markdown",
      "metadata": {
        "id": "iaebnWDfdyEu"
      },
      "source": [
        "# Tests whether the Lipinski rule of five is fullfiled"
      ]
    },
    {
      "cell_type": "code",
      "execution_count": null,
      "metadata": {
        "id": "82bwboX7ejPe"
      },
      "outputs": [],
      "source": [
        "def fulfilled(df):\n",
        "  predictions = []\n",
        "\n",
        "  for i,row in df.iterrows():\n",
        "        mw = row['MW']\n",
        "        logp = row['LogP']\n",
        "        hbd = row['NumHDonors']\n",
        "        hba = row['NumHAcceptors']\n",
        "        num_rot_b = row[\"numRotatingBonds\"]\n",
        "\n",
        "        # Check if all conditions are satisfied\n",
        "        if mw <= 500 and logp <= 10 and hba <=10 and hbd <=5 and num_rot_b <=5:\n",
        "            predictions.append(True)\n",
        "        else:\n",
        "            predictions.append(False)\n",
        "  return pd.Series(predictions, name=\"fullfilment\")"
      ]
    },
    {
      "cell_type": "code",
      "execution_count": null,
      "metadata": {
        "id": "Vz30vDThepUE"
      },
      "outputs": [],
      "source": [
        "ro5_properties = fulfilled(exp_data)"
      ]
    },
    {
      "cell_type": "code",
      "execution_count": null,
      "metadata": {
        "id": "TiLKGgOUfRhZ"
      },
      "outputs": [],
      "source": [
        "fullfilment_test = pd.concat([exp_data, ro5_properties], axis=1)\n",
        "fullfilment_test"
      ]
    },
    {
      "cell_type": "code",
      "execution_count": null,
      "metadata": {
        "id": "FOgkXEF-ocIP"
      },
      "outputs": [],
      "source": [
        "molecules_ro5_fulfilled = fullfilment_test[fullfilment_test.fullfilment == True]\n",
        "molecules_ro5_violated = fullfilment_test[fullfilment_test.fullfilment == False]\n",
        "len(molecules_ro5_fulfilled), len(molecules_ro5_violated)"
      ]
    },
    {
      "cell_type": "markdown",
      "metadata": {
        "id": "aqOo3Uq-qvkq"
      },
      "source": [
        "#Making radar plot"
      ]
    },
    {
      "cell_type": "code",
      "execution_count": null,
      "metadata": {
        "id": "-npUB1Ur1r2L"
      },
      "outputs": [],
      "source": [
        "def calculate_mean_std(dataframe):\n",
        "    stats = dataframe.describe()\n",
        "    stats = stats.T\n",
        "    stats = stats[[\"mean\", \"std\"]]\n",
        "    return stats"
      ]
    },
    {
      "cell_type": "code",
      "execution_count": null,
      "metadata": {
        "id": "RokE5hP-2xNH"
      },
      "outputs": [],
      "source": [
        "molecules_ro5_fulfilled_stats = calculate_mean_std(molecules_ro5_fulfilled[['MW','LogP','NumHDonors','NumHAcceptors',\"numRotatingBonds\"]])\n",
        "molecules_ro5_violated_stats = calculate_mean_std(molecules_ro5_violated[['MW','LogP','NumHDonors','NumHAcceptors',\"numRotatingBonds\"]])"
      ]
    },
    {
      "cell_type": "code",
      "execution_count": null,
      "metadata": {
        "id": "hglL6UTwqu8V"
      },
      "outputs": [],
      "source": [
        "selections = ['MW','LogP','NumHDonors','NumHAcceptors',\"numRotatingBonds\"]\n",
        "angles=np.linspace(0,2*np.pi,len(selections), endpoint=False)\n",
        "angles=np.concatenate((angles,[angles[0]]))"
      ]
    },
    {
      "cell_type": "code",
      "execution_count": null,
      "metadata": {
        "id": "0ov3E9IQ1Q5W"
      },
      "outputs": [],
      "source": [
        "fig=plt.figure(figsize=(6,6))\n",
        "ax=fig.add_subplot(polar=True)\n",
        "ax.plot(angles)\n",
        "plt.show()"
      ]
    },
    {
      "cell_type": "code",
      "execution_count": null,
      "metadata": {
        "id": "MsrRFBMV4e6R"
      },
      "outputs": [],
      "source": [
        "def _scale_by_thresholds(stats, thresholds, scaled_threshold):\n",
        "    \"\"\"\n",
        "    Scale values for different properties that have each an individually defined threshold.\n",
        "\n",
        "    Parameters\n",
        "    ----------\n",
        "    stats : pd.DataFrame\n",
        "        Dataframe with \"mean\" and \"std\" (columns) for each physicochemical property (rows).\n",
        "    thresholds : dict of str: int\n",
        "        Thresholds defined for each property.\n",
        "    scaled_threshold : int or float\n",
        "        Scaled thresholds across all properties.\n",
        "\n",
        "    Returns\n",
        "    -------\n",
        "    pd.DataFrame\n",
        "        DataFrame with scaled means and standard deviations for each physiochemical property.\n",
        "    \"\"\"\n",
        "    # Raise error if scaling keys and data_stats indicies are not matching\n",
        "    for property_name in stats.index:\n",
        "        if property_name not in thresholds.keys():\n",
        "            raise KeyError(f\"Add property '{property_name}' to scaling variable.\")\n",
        "    # Scale property data\n",
        "    stats_scaled = stats.apply(lambda x: x / thresholds[x.name] * scaled_threshold, axis=1)\n",
        "    return stats_scaled"
      ]
    },
    {
      "cell_type": "code",
      "execution_count": null,
      "metadata": {
        "id": "J65GOgNG4f-t"
      },
      "outputs": [],
      "source": [
        "def _define_radial_axes_angles(n_axes):\n",
        "    \"\"\"Define angles (radians) for radial (x-)axes depending on the number of axes.\"\"\"\n",
        "    x_angles = [i / float(n_axes) * 2 * math.pi for i in range(n_axes)]\n",
        "    x_angles += x_angles[:1]\n",
        "    return x_angles"
      ]
    },
    {
      "cell_type": "code",
      "execution_count": null,
      "metadata": {
        "id": "DkAJYbTon_u-"
      },
      "outputs": [],
      "source": [
        "#Code adapted from https://projects.volkamerlab.org/teachopencadd/talktorials/T002_compound_adme.html\n",
        "def plot_radar(y, thresholds, scaled_threshold, properties_labels, y_max=None, output_path=None):\n",
        "\n",
        "    x = _define_radial_axes_angles(len(y) - 1)\n",
        "    y_scaled = _scale_by_thresholds(y, thresholds, scaled_threshold)\n",
        "\n",
        "    # Set figure and subplot axis\n",
        "    plt.figure(figsize=(6, 6))\n",
        "    ax = plt.subplot(111, polar=True)\n",
        "\n",
        "    # Plot data\n",
        "    ax.fill(x, [scaled_threshold] * len(x), \"cornflowerblue\", alpha=0.2)\n",
        "    ax.plot(x, y_scaled[\"mean\"], \"b\", lw=3, ls=\"-\")\n",
        "    ax.plot(x, y_scaled[\"mean\"] + y_scaled[\"std\"], \"orange\", lw=2, ls=\"--\")\n",
        "    ax.plot(x, y_scaled[\"mean\"] - y_scaled[\"std\"], \"orange\", lw=2, ls=\"-.\")\n",
        "\n",
        "    # Set plot cosmetics\n",
        "    ax.set_theta_offset(math.pi / 2)\n",
        "    ax.set_theta_direction(-1)\n",
        "    ax.set_rlabel_position(180)\n",
        "    plt.xticks(x, [])\n",
        "    if not y_max:\n",
        "        y_max = int(ax.get_yticks()[-1])\n",
        "    plt.ylim(0, y_max)\n",
        "    plt.yticks(range(1, y_max), [\"5\" if i == scaled_threshold else \"\" for i in range(1, y_max)], fontsize=16)\n",
        "\n",
        "    # Draw ytick labels\n",
        "    for angle, label in zip(x, properties_labels):\n",
        "        if angle == 0:\n",
        "            ha = \"center\"\n",
        "        elif 0 < angle < math.pi:\n",
        "            ha = \"left\"\n",
        "        elif angle == math.pi:\n",
        "            ha = \"center\"\n",
        "        else:\n",
        "            ha = \"right\"\n",
        "        ax.text(x=angle, y=y_max + 1, s=label, size=16, horizontalalignment=ha, verticalalignment=\"center\")\n",
        "\n",
        "    # Add legend\n",
        "    labels = (\"mean\", \"mean + std\", \"mean - std\", \"rule of five area\")\n",
        "    ax.legend(labels, loc=(1.1, 0.7), labelspacing=0.3, fontsize=16)\n",
        "\n",
        "    # Save plot\n",
        "    if output_path:\n",
        "        plt.savefig(output_path, dpi=300, bbox_inches=\"tight\", transparent=True)\n",
        "\n",
        "    plt.show()\n"
      ]
    },
    {
      "cell_type": "code",
      "execution_count": null,
      "metadata": {
        "id": "gaBEi_UA4qh9"
      },
      "outputs": [],
      "source": [
        "thresholds = {\"MW\": 500, \"NumHAcceptors\": 10, \"NumHDonors\": 5, \"LogP\": 5, \"numRotatingBonds\":5}\n",
        "scaled_threshold = 5\n",
        "properties_labels = [\n",
        "    \"Molecular weight (Da) / 100\",\n",
        "    \"# NumHAcceptors / 2\",\n",
        "    \"# NumHDonors\",\n",
        "    \"LogP\",\n",
        "]\n",
        "y_max = 8"
      ]
    },
    {
      "cell_type": "markdown",
      "metadata": {
        "id": "wfXAUczRoMvn"
      },
      "source": [
        "Radar plot of molecules that fulfill Lipinski rule of five"
      ]
    },
    {
      "cell_type": "code",
      "execution_count": null,
      "metadata": {
        "id": "7hgijZxg4q4q"
      },
      "outputs": [],
      "source": [
        "plot_radar(\n",
        "    molecules_ro5_fulfilled_stats,\n",
        "    thresholds,\n",
        "    scaled_threshold,\n",
        "    properties_labels,\n",
        "    y_max,\n",
        ")"
      ]
    },
    {
      "cell_type": "markdown",
      "metadata": {
        "id": "Nz5eir69offg"
      },
      "source": [
        "Radar plot of molecules that violate the Lipinski rule of five"
      ]
    },
    {
      "cell_type": "code",
      "execution_count": null,
      "metadata": {
        "id": "AP0ENI5uoT40"
      },
      "outputs": [],
      "source": [
        "plot_radar(\n",
        "    molecules_ro5_violated_stats,\n",
        "    thresholds,\n",
        "    scaled_threshold,\n",
        "    properties_labels,\n",
        "    y_max,\n",
        ")"
      ]
    }
  ],
  "metadata": {
    "colab": {
      "provenance": [],
      "authorship_tag": "ABX9TyNv5rHl2XlFhyhOM1umuYab",
      "include_colab_link": true
    },
    "kernelspec": {
      "display_name": "Python 3",
      "name": "python3"
    },
    "language_info": {
      "name": "python"
    }
  },
  "nbformat": 4,
  "nbformat_minor": 0
}